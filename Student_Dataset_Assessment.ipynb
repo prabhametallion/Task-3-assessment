{
  "cells": [
    {
      "cell_type": "markdown",
      "metadata": {
        "id": "L6PqPTgH55tV"
      },
      "source": [
        "###### Assessment"
      ]
    },
    {
      "cell_type": "markdown",
      "metadata": {
        "id": "CE8MRLx855td"
      },
      "source": [
        "###### I am going to provide two .csv files , you are supposed to work on them and have to provide solutions to the following problems"
      ]
    },
    {
      "cell_type": "markdown",
      "metadata": {
        "id": "kxA1kpSX55te"
      },
      "source": [
        "###### import necessary libraries"
      ]
    },
    {
      "cell_type": "code",
      "execution_count": 1,
      "metadata": {
        "id": "YqNsjJva55tf"
      },
      "outputs": [],
      "source": [
        "import pandas as pd\n",
        "import numpy as np\n",
        "import matplotlib.pyplot as plt"
      ]
    },
    {
      "cell_type": "markdown",
      "metadata": {
        "id": "YS8m2-kg55tg"
      },
      "source": [
        "###### merge those two csv files (after getting as dataframes, get them as a single dataframe)"
      ]
    },
    {
      "cell_type": "code",
      "execution_count": 3,
      "metadata": {
        "id": "scA4PpUe55tg"
      },
      "outputs": [],
      "source": [
        "# merge those two csv files (after getting as dataframes, get them as a single dataframe)\n",
        "data1 = pd.read_csv(\"/college_1.csv\")\n",
        "data2 = pd.read_csv(\"/college_2.csv\")\n",
        "df = pd.concat([data1,data2])"
      ]
    },
    {
      "cell_type": "markdown",
      "metadata": {
        "id": "dkIPlegG55th"
      },
      "source": [
        "###### Take each csv file , split that csv file into multiple categories (example csv files are added in the repo) \n"
      ]
    },
    {
      "cell_type": "code",
      "source": [],
      "metadata": {
        "id": "8IJJt4Ak9EFs"
      },
      "execution_count": null,
      "outputs": []
    },
    {
      "cell_type": "markdown",
      "metadata": {
        "id": "XUD6OXb555ti"
      },
      "source": [
        "###### consider if the codekata score exceeds 15000 points(present week) then make a csv on those observations as Exceeded expectations.csv\n"
      ]
    },
    {
      "cell_type": "markdown",
      "metadata": {
        "id": "9d8cG72z55ti"
      },
      "source": [
        "###### if  10000<codekata score<15000   (Reached_expectations.csv)\n",
        "\n"
      ]
    },
    {
      "cell_type": "markdown",
      "metadata": {
        "id": "FUUg4XM655tj"
      },
      "source": [
        "###### if  7000<codekata score<10000   (Needs_Improvement.csv)\n"
      ]
    },
    {
      "cell_type": "markdown",
      "metadata": {
        "id": "yi-00zgI55tk"
      },
      "source": [
        "###### if  codekate score < 7000        (Unsatisfactory.csv)"
      ]
    },
    {
      "cell_type": "code",
      "execution_count": 5,
      "metadata": {
        "id": "ZTLnsxr555tk"
      },
      "outputs": [],
      "source": [
        "# consider if the codekata score exceeds 15000 points(present week) then make a csv on those observations as Exceeded expectations.csv\n",
        "df3 = df[df['CodeKata Score']>15000]\n",
        "\n",
        "df3.to_csv('Exceeded expextations1.csv')\n",
        "\n",
        "df4 = pd.read_csv(\"Exceeded expextations1.csv\")\n"
      ]
    },
    {
      "cell_type": "code",
      "execution_count": 7,
      "metadata": {
        "id": "I2fl9k5x55tl"
      },
      "outputs": [],
      "source": [
        "# if 10000<codekata score<15000 (Reached_expectations.csv)\n",
        "reached = df[(df[\"CodeKata Score\"].between(10000,15000))]\n",
        "reached.to_csv(\"Reached_Expectations.csv\",index = False)"
      ]
    },
    {
      "cell_type": "code",
      "source": [
        "# if 7000<codekata score<10000 (Needs_Improvement.csv)\n",
        "needs = df[(df[\"CodeKata Score\"].between(7000,10000))]\n",
        "needs.to_csv(\"Needs_Improvement.csv\",index=False)"
      ],
      "metadata": {
        "id": "LUt4PALlBtr7"
      },
      "execution_count": 8,
      "outputs": []
    },
    {
      "cell_type": "code",
      "source": [
        "# if codekate score < 7000 (Unsatisfactory.csv)\n",
        "unsatisfy = df[(df[\"CodeKata Score\"]<7000)]\n",
        "unsatisfy.to_csv(\"Unsatisfactory.csv\",index = False)"
      ],
      "metadata": {
        "id": "L9shWu4dB1gP"
      },
      "execution_count": 9,
      "outputs": []
    },
    {
      "cell_type": "markdown",
      "metadata": {
        "id": "uEedlubN55tl"
      },
      "source": [
        "###### Average of previous week geekions vs this week geekions (i.e Previous Geekions vs CodeKata Score)"
      ]
    },
    {
      "cell_type": "code",
      "execution_count": 12,
      "metadata": {
        "id": "wmvecQaO55tm"
      },
      "outputs": [],
      "source": [
        "df[\"Average\"] = (df[\"Previous Geekions\"]+df[\"CodeKata Score\"])/2"
      ]
    },
    {
      "cell_type": "markdown",
      "metadata": {
        "id": "Sjm9Z8Gl55tm"
      },
      "source": [
        "###### No of students participated "
      ]
    },
    {
      "cell_type": "code",
      "execution_count": 13,
      "metadata": {
        "id": "6NzPdx5W55tm"
      },
      "outputs": [],
      "source": [
        "no_of_students = df['Name'].count()"
      ]
    },
    {
      "cell_type": "markdown",
      "metadata": {
        "id": "yksxzA-Y55tn"
      },
      "source": [
        "###### #Average completion of python course or my_sql or python english or computational thinking"
      ]
    },
    {
      "cell_type": "code",
      "execution_count": 14,
      "metadata": {
        "id": "MuCVuHkL55tn"
      },
      "outputs": [],
      "source": [
        "average_python = (df[\"python\"].sum())/no_of_students"
      ]
    },
    {
      "cell_type": "markdown",
      "metadata": {
        "id": "fwGJuqq755tn"
      },
      "source": [
        "###### rising star of the week (top 3 candidate who performed well in that particular week)"
      ]
    },
    {
      "cell_type": "code",
      "execution_count": 15,
      "metadata": {
        "id": "QXfgC2JM55to"
      },
      "outputs": [],
      "source": [
        "rising_star = df.nlargest(3,[\"Rising\"])\n",
        "rising_star.to_csv('top_3_rising.csv',index=False)"
      ]
    },
    {
      "cell_type": "markdown",
      "metadata": {
        "id": "Y8qK59R055to"
      },
      "source": [
        "###### Shining stars of the week (top 3 candidates who has highest geekions)"
      ]
    },
    {
      "cell_type": "code",
      "execution_count": 17,
      "metadata": {
        "id": "6i0ljUjL55to"
      },
      "outputs": [],
      "source": [
        "greek = df.nlargest(3,[\"Previous Geekions\"])\n",
        "greek.to_csv('top_3_shing.csv',index=False)"
      ]
    },
    {
      "cell_type": "markdown",
      "metadata": {
        "id": "UStiijQO55to"
      },
      "source": [
        "###### Department wise codekata performence (pie chart)"
      ]
    },
    {
      "cell_type": "code",
      "execution_count": 19,
      "metadata": {
        "id": "sswUF_WP55tp",
        "colab": {
          "base_uri": "https://localhost:8080/",
          "height": 428
        },
        "outputId": "627bafff-9d7c-46e6-a786-124b9af9f2ed"
      },
      "outputs": [
        {
          "output_type": "display_data",
          "data": {
            "text/plain": [
              "<Figure size 720x504 with 1 Axes>"
            ],
            "image/png": "[encoded data removed]"
          },
          "metadata": {}
        },
        {
          "output_type": "stream",
          "name": "stdout",
          "text": [
            "\n"
          ]
        }
      ],
      "source": [
        "comp = df[(df[\"Department\"] == 'Computer Science and Engineering')]\n",
        "computer_total = comp[\"CodeKata Score\"].sum()\n",
        "elec = df[(df[\"Department\"] == 'Electronics and Communication Engineering')]\n",
        "ece_total = elec[\"CodeKata Score\"].sum()\n",
        "elec_eng = df[(df[\"Department\"] == 'Electronics and Electrical Engineering')]\n",
        "eee_total = elec_eng[\"CodeKata Score\"].sum()\n",
        "data = [computer_total,ece_total,eee_total]\n",
        "fig = plt.figure(figsize=(10,7))\n",
        "plt.pie(data,labels = ['Computer Science and Engineering','Electronics and Communication Engineering','Electronics and Electrical Engineering'])\n",
        "plt.show()\n",
        "print()"
      ]
    },
    {
      "cell_type": "markdown",
      "metadata": {
        "id": "1hmQVWQ255tp"
      },
      "source": [
        "###### Department wise toppers (horizantal bar graph or any visual representations of your choice)"
      ]
    },
    {
      "cell_type": "code",
      "execution_count": 20,
      "metadata": {
        "id": "PanUEFNx55tp",
        "colab": {
          "base_uri": "https://localhost:8080/",
          "height": 295
        },
        "outputId": "37a66e2c-40d4-464e-9f98-ae3f83b854f9"
      },
      "outputs": [
        {
          "output_type": "display_data",
          "data": {
            "text/plain": [
              "<Figure size 432x288 with 1 Axes>"
            ],
            "image/png": "[encoded data removed]"
          },
          "metadata": {
            "needs_background": "light"
          }
        }
      ],
      "source": [
        "x=['A.Dharani-CSE','Bodipudi Harini-ECE','ASHOK KUMAR K-EEE']\n",
        "df=[24500,10040,19400]\n",
        "plt.bar(x, df)\n",
        "plt.xlabel(\"Department wise toppers\")\n",
        "plt.ylabel(\"codekata score\")\n",
        "plt.title(\"Vertical bar graph\")\n",
        "plt.show()"
      ]
    },
    {
      "cell_type": "code",
      "execution_count": null,
      "metadata": {
        "id": "m9UPXHCR55tp"
      },
      "outputs": [],
      "source": []
    },
    {
      "cell_type": "code",
      "execution_count": null,
      "metadata": {
        "id": "K9X0YnG155tq"
      },
      "outputs": [],
      "source": []
    },
    {
      "cell_type": "code",
      "execution_count": null,
      "metadata": {
        "id": "-YEuaubl55tq"
      },
      "outputs": [],
      "source": []
    }
  ],
  "metadata": {
    "kernelspec": {
      "display_name": "Python 3",
      "language": "python",
      "name": "python3"
    },
    "language_info": {
      "codemirror_mode": {
        "name": "ipython",
        "version": 3
      },
      "file_extension": ".py",
      "mimetype": "text/x-python",
      "name": "python",
      "nbconvert_exporter": "python",
      "pygments_lexer": "ipython3",
      "version": "3.8.3"
    },
    "colab": {
      "provenance": []
    }
  },
  "nbformat": 4,
  "nbformat_minor": 0
}